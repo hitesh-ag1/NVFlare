{
 "cells": [
  {
   "cell_type": "code",
   "execution_count": 1,
   "id": "335217fd",
   "metadata": {},
   "outputs": [],
   "source": [
    "\"\"\"This module contains utility functions that expose functionality of PSI.\"\"\"\n",
    "from openmined_psi import client\n",
    "from openmined_psi import server\n",
    "\n"
   ]
  },
  {
   "cell_type": "code",
   "execution_count": 2,
   "id": "bb5316e4",
   "metadata": {},
   "outputs": [],
   "source": [
    "\n",
    "class Server:\n",
    "    \"\"\"\n",
    "    Class to represent the server in a client/server PSI model.\n",
    "    \"\"\"\n",
    "\n",
    "    def __init__(self, server_items, fpr=1e-9):\n",
    "        \"\"\"\n",
    "        Args:\n",
    "            server_items (List[str]) : The items provided by the server\n",
    "            fpr (float) : The false positive ratio\n",
    "        \"\"\"\n",
    "\n",
    "        if len(server_items) == 0:\n",
    "            raise RuntimeError(\"Server items cannot be empty\")\n",
    "        reveal_intersection = True\n",
    "        self._server = server.CreateWithNewKey(reveal_intersection)\n",
    "        self._items = server_items\n",
    "        self._fpr = fpr\n",
    "\n",
    "    def process_request(self, request, len_client_items):\n",
    "        \"\"\"\n",
    "        Return the setup and corresponding response for the client to compute\n",
    "        the private set intersection.\n",
    "        Args:\n",
    "            request (_psi_bindings.PsiProtoRequest): The client request\n",
    "            len_client_items (int): The length of the client items\n",
    "        Returns:\n",
    "            A tuple of (setup, response) with:\n",
    "            setup (_psi_bindings.PsiProtoServerSetup): The server setup\n",
    "            response (_psi_bindings.PsiProtoResponse): The server response\n",
    "        \"\"\"\n",
    "        setup = self._server.CreateSetupMessage(\n",
    "            self._fpr, len_client_items, self._items\n",
    "        )\n",
    "        response = self._server.ProcessRequest(request)\n",
    "        return setup, response\n"
   ]
  },
  {
   "cell_type": "code",
   "execution_count": 3,
   "id": "b4a28f12",
   "metadata": {},
   "outputs": [],
   "source": [
    "class Client:\n",
    "    \"\"\"\n",
    "    Class to represent the client in a client/server PSI model.\n",
    "    \"\"\"\n",
    "\n",
    "    def __init__(self, client_items):\n",
    "        \"\"\"\n",
    "        Args:\n",
    "            client_items (List[str]) : The items provided by the client\n",
    "        \"\"\"\n",
    "        if len(client_items) == 0:\n",
    "            raise RuntimeError(\"Server items cannot be empty\")\n",
    "        reveal_intersection = True\n",
    "        self._client = client.CreateWithNewKey(reveal_intersection)\n",
    "        self._items = client_items\n",
    "        self.request = self._client.CreateRequest(client_items)\n",
    "\n",
    "    def compute_intersection(self, setup, response):\n",
    "        \"\"\"\n",
    "        Return the intersection of client and server items.\n",
    "        Args:\n",
    "            setup (_psi_bindings.PsiProtoServerSetup): The server setup\n",
    "            response (_psi_bindings.PsiProtoResponse): The server response\n",
    "        Returns:\n",
    "            The intersection set (List[str]) of client and server items\n",
    "        \"\"\"\n",
    "        return sorted(self._client.GetIntersection(setup, response))"
   ]
  },
  {
   "cell_type": "code",
   "execution_count": 4,
   "id": "20cb803e",
   "metadata": {},
   "outputs": [
    {
     "name": "stdout",
     "output_type": "stream",
     "text": [
      "[3, 4]\n"
     ]
    }
   ],
   "source": [
    "# Compute private set intersection\n",
    "client_items = [str(x) for x in [1,2,3,4,5]]\n",
    "server_items = [str(y) for y in [4,5,2,6,7,9]]\n",
    "\n",
    "client = Client(client_items)\n",
    "server = Server(server_items)\n",
    "\n",
    "setup, response = server.process_request(client.request, len(client_items))\n",
    "intersection = client.compute_intersection(setup, response)\n",
    "print(intersection)\n",
    "# # Order data\n",
    "# dataloader.drop_non_intersecting(intersection)\n",
    "# dataloader.sort_by_ids()"
   ]
  },
  {
   "cell_type": "code",
   "execution_count": null,
   "id": "0647fee5",
   "metadata": {},
   "outputs": [],
   "source": []
  }
 ],
 "metadata": {
  "kernelspec": {
   "display_name": "Python 3 (ipykernel)",
   "language": "python",
   "name": "python3"
  },
  "language_info": {
   "codemirror_mode": {
    "name": "ipython",
    "version": 3
   },
   "file_extension": ".py",
   "mimetype": "text/x-python",
   "name": "python",
   "nbconvert_exporter": "python",
   "pygments_lexer": "ipython3",
   "version": "3.8.16"
  }
 },
 "nbformat": 4,
 "nbformat_minor": 5
}
